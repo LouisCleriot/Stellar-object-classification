{
 "cells": [
  {
   "cell_type": "code",
   "execution_count": 2,
   "id": "67d8cecc-e532-4b0e-8812-a3a5bea4a4e7",
   "metadata": {},
   "outputs": [],
   "source": [
    "import pandas as pd\n",
    "import matplotlib.pyplot as plt\n",
    "df = pd.read_csv('../data/raw/star_classification.csv')"
   ]
  },
  {
   "cell_type": "code",
   "execution_count": 3,
   "id": "2389dc65-ecff-4b83-9eb9-0144e8bd83ee",
   "metadata": {},
   "outputs": [
    {
     "name": "stdout",
     "output_type": "stream",
     "text": [
      "         obj_ID       alpha      delta         u         g         r  \\\n",
      "0  1.237661e+18  135.689107  32.494632  23.87882  22.27530  20.39501   \n",
      "1  1.237665e+18  144.826101  31.274185  24.77759  22.83188  22.58444   \n",
      "2  1.237661e+18  142.188790  35.582444  25.26307  22.66389  20.60976   \n",
      "3  1.237663e+18  338.741038  -0.402828  22.13682  23.77656  21.61162   \n",
      "4  1.237680e+18  345.282593  21.183866  19.43718  17.58028  16.49747   \n",
      "\n",
      "          i         z  run_ID  rerun_ID  cam_col  field_ID   spec_obj_ID  \\\n",
      "0  19.16573  18.79371    3606       301        2        79  6.543777e+18   \n",
      "1  21.16812  21.61427    4518       301        5       119  1.176014e+19   \n",
      "2  19.34857  18.94827    3606       301        2       120  5.152200e+18   \n",
      "3  20.50454  19.25010    4192       301        3       214  1.030107e+19   \n",
      "4  15.97711  15.54461    8102       301        3       137  6.891865e+18   \n",
      "\n",
      "    class  redshift  plate    MJD  fiber_ID  \n",
      "0  GALAXY  0.634794   5812  56354       171  \n",
      "1  GALAXY  0.779136  10445  58158       427  \n",
      "2  GALAXY  0.644195   4576  55592       299  \n",
      "3  GALAXY  0.932346   9149  58039       775  \n",
      "4  GALAXY  0.116123   6121  56187       842  \n",
      "=====================================\n",
      "             obj_ID          alpha          delta              u  \\\n",
      "count  1.000000e+05  100000.000000  100000.000000  100000.000000   \n",
      "mean   1.237665e+18     177.629117      24.135305      21.980468   \n",
      "std    8.438560e+12      96.502241      19.644665      31.769291   \n",
      "min    1.237646e+18       0.005528     -18.785328   -9999.000000   \n",
      "25%    1.237659e+18     127.518222       5.146771      20.352353   \n",
      "50%    1.237663e+18     180.900700      23.645922      22.179135   \n",
      "75%    1.237668e+18     233.895005      39.901550      23.687440   \n",
      "max    1.237681e+18     359.999810      83.000519      32.781390   \n",
      "\n",
      "                   g              r              i              z  \\\n",
      "count  100000.000000  100000.000000  100000.000000  100000.000000   \n",
      "mean       20.531387      19.645762      19.084854      18.668810   \n",
      "std        31.750292       1.854760       1.757895      31.728152   \n",
      "min     -9999.000000       9.822070       9.469903   -9999.000000   \n",
      "25%        18.965230      18.135828      17.732285      17.460677   \n",
      "50%        21.099835      20.125290      19.405145      19.004595   \n",
      "75%        22.123767      21.044785      20.396495      19.921120   \n",
      "max        31.602240      29.571860      32.141470      29.383740   \n",
      "\n",
      "              run_ID  rerun_ID        cam_col       field_ID   spec_obj_ID  \\\n",
      "count  100000.000000  100000.0  100000.000000  100000.000000  1.000000e+05   \n",
      "mean     4481.366060     301.0       3.511610     186.130520  5.783882e+18   \n",
      "std      1964.764593       0.0       1.586912     149.011073  3.324016e+18   \n",
      "min       109.000000     301.0       1.000000      11.000000  2.995191e+17   \n",
      "25%      3187.000000     301.0       2.000000      82.000000  2.844138e+18   \n",
      "50%      4188.000000     301.0       4.000000     146.000000  5.614883e+18   \n",
      "75%      5326.000000     301.0       5.000000     241.000000  8.332144e+18   \n",
      "max      8162.000000     301.0       6.000000     989.000000  1.412694e+19   \n",
      "\n",
      "            redshift          plate            MJD       fiber_ID  \n",
      "count  100000.000000  100000.000000  100000.000000  100000.000000  \n",
      "mean        0.576661    5137.009660   55588.647500     449.312740  \n",
      "std         0.730707    2952.303351    1808.484233     272.498404  \n",
      "min        -0.009971     266.000000   51608.000000       1.000000  \n",
      "25%         0.054517    2526.000000   54234.000000     221.000000  \n",
      "50%         0.424173    4987.000000   55868.500000     433.000000  \n",
      "75%         0.704154    7400.250000   56777.000000     645.000000  \n",
      "max         7.011245   12547.000000   58932.000000    1000.000000  \n"
     ]
    }
   ],
   "source": [
    "#show the data head \n",
    "print(df.head())\n",
    "print(\"=====================================\")\n",
    "print(df.describe())"
   ]
  },
  {
   "cell_type": "code",
   "execution_count": 4,
   "metadata": {},
   "outputs": [
    {
     "name": "stdout",
     "output_type": "stream",
     "text": [
      "(100000, 18)\n"
     ]
    }
   ],
   "source": [
    "#check the number of data\n",
    "print(df.shape)"
   ]
  },
  {
   "cell_type": "code",
   "execution_count": 5,
   "metadata": {},
   "outputs": [
    {
     "name": "stdout",
     "output_type": "stream",
     "text": [
      "class\n",
      "GALAXY    59445\n",
      "STAR      21594\n",
      "QSO       18961\n",
      "Name: count, dtype: int64\n"
     ]
    }
   ],
   "source": [
    "#check the number of classes in the target column\n",
    "print(df['class'].value_counts())"
   ]
  },
  {
   "cell_type": "code",
   "execution_count": 13,
   "metadata": {},
   "outputs": [
    {
     "name": "stdout",
     "output_type": "stream",
     "text": [
      "Missing values : \n",
      "alpha          0\n",
      "delta          0\n",
      "u              0\n",
      "g              0\n",
      "r              0\n",
      "i              0\n",
      "z              0\n",
      "run_ID         0\n",
      "rerun_ID       0\n",
      "cam_col        0\n",
      "field_ID       0\n",
      "spec_obj_ID    0\n",
      "redshift       0\n",
      "plate          0\n",
      "MJD            0\n",
      "fiber_ID       0\n",
      "dtype: int64\n",
      "=====================================\n",
      "Duplicates : 0\n"
     ]
    }
   ],
   "source": [
    "#check for missing values and duplicates\n",
    "print(\"Missing values : \")\n",
    "print(df.isnull().sum())\n",
    "print(\"=====================================\")\n",
    "print(f\"Duplicates : {df.duplicated().sum()}\")"
   ]
  },
  {
   "cell_type": "code",
   "execution_count": 7,
   "id": "e5d10db7-1852-401f-840f-9fde86fe8169",
   "metadata": {},
   "outputs": [
    {
     "name": "stdout",
     "output_type": "stream",
     "text": [
      "obj_ID          78053\n",
      "alpha           99999\n",
      "delta           99999\n",
      "u               93748\n",
      "g               92651\n",
      "r               91901\n",
      "i               92019\n",
      "z               92007\n",
      "run_ID            430\n",
      "rerun_ID            1\n",
      "cam_col             6\n",
      "field_ID          856\n",
      "spec_obj_ID    100000\n",
      "class               3\n",
      "redshift        99295\n",
      "plate            6284\n",
      "MJD              2180\n",
      "fiber_ID         1000\n",
      "dtype: int64\n"
     ]
    }
   ],
   "source": [
    "#check for the number of unique values in each column\n",
    "print(df.nunique())"
   ]
  },
  {
   "cell_type": "code",
   "execution_count": 8,
   "metadata": {},
   "outputs": [
    {
     "name": "stdout",
     "output_type": "stream",
     "text": [
      "obj_ID         float64\n",
      "alpha          float64\n",
      "delta          float64\n",
      "u              float64\n",
      "g              float64\n",
      "r              float64\n",
      "i              float64\n",
      "z              float64\n",
      "run_ID           int64\n",
      "rerun_ID         int64\n",
      "cam_col          int64\n",
      "field_ID         int64\n",
      "spec_obj_ID    float64\n",
      "class           object\n",
      "redshift       float64\n",
      "plate            int64\n",
      "MJD              int64\n",
      "fiber_ID         int64\n",
      "dtype: object\n"
     ]
    }
   ],
   "source": [
    "#check for the data types\n",
    "print(df.dtypes)"
   ]
  },
  {
   "cell_type": "code",
   "execution_count": 9,
   "metadata": {},
   "outputs": [
    {
     "name": "stdout",
     "output_type": "stream",
     "text": [
      "                alpha     delta         u         g         r         i  \\\n",
      "alpha        1.000000  0.138691 -0.001532 -0.002423 -0.022083 -0.023580   \n",
      "delta        0.138691  1.000000  0.002074  0.003523 -0.006835 -0.004480   \n",
      "u           -0.001532  0.002074  1.000000  0.999311  0.054149  0.045730   \n",
      "g           -0.002423  0.003523  0.999311  1.000000  0.062387  0.056271   \n",
      "r           -0.022083 -0.006835  0.054149  0.062387  1.000000  0.962868   \n",
      "i           -0.023580 -0.004480  0.045730  0.056271  0.962868  1.000000   \n",
      "z           -0.002918  0.003630  0.998093  0.999161  0.053677  0.055994   \n",
      "run_ID      -0.013737 -0.301238  0.015309  0.015710  0.153889  0.147668   \n",
      "rerun_ID          NaN       NaN       NaN       NaN       NaN       NaN   \n",
      "cam_col      0.019582  0.032565  0.003548  0.003508  0.008480  0.007615   \n",
      "field_ID    -0.165577 -0.173416 -0.008374 -0.008852 -0.026423 -0.026679   \n",
      "spec_obj_ID -0.002553  0.112329  0.029997  0.039443  0.655245  0.661641   \n",
      "redshift     0.001667  0.031638  0.014309  0.022954  0.433241  0.492383   \n",
      "plate       -0.002554  0.112329  0.029997  0.039443  0.655243  0.661640   \n",
      "MJD          0.019943  0.107333  0.031997  0.040274  0.671180  0.672523   \n",
      "fiber_ID     0.030464  0.028250  0.016305  0.017470  0.223106  0.214787   \n",
      "\n",
      "                    z    run_ID  rerun_ID   cam_col  field_ID  spec_obj_ID  \\\n",
      "alpha       -0.002918 -0.013737       NaN  0.019582 -0.165577    -0.002553   \n",
      "delta        0.003630 -0.301238       NaN  0.032565 -0.173416     0.112329   \n",
      "u            0.998093  0.015309       NaN  0.003548 -0.008374     0.029997   \n",
      "g            0.999161  0.015710       NaN  0.003508 -0.008852     0.039443   \n",
      "r            0.053677  0.153889       NaN  0.008480 -0.026423     0.655245   \n",
      "i            0.055994  0.147668       NaN  0.007615 -0.026679     0.661641   \n",
      "z            1.000000  0.013811       NaN  0.003365 -0.008903     0.037813   \n",
      "run_ID       0.013811  1.000000       NaN -0.047098  0.031498     0.239460   \n",
      "rerun_ID          NaN       NaN       NaN       NaN       NaN          NaN   \n",
      "cam_col      0.003365 -0.047098       NaN  1.000000 -0.015684    -0.001946   \n",
      "field_ID    -0.008903  0.031498       NaN -0.015684  1.000000    -0.083471   \n",
      "spec_obj_ID  0.037813  0.239460       NaN -0.001946 -0.083471     1.000000   \n",
      "redshift     0.030380  0.065400       NaN  0.000097 -0.021331     0.388642   \n",
      "plate        0.037813  0.239459       NaN -0.001949 -0.083471     1.000000   \n",
      "MJD          0.037469  0.262687       NaN -0.006745 -0.095064     0.970167   \n",
      "fiber_ID     0.014668  0.067165       NaN  0.121597 -0.012337     0.241279   \n",
      "\n",
      "             redshift     plate       MJD  fiber_ID  \n",
      "alpha        0.001667 -0.002554  0.019943  0.030464  \n",
      "delta        0.031638  0.112329  0.107333  0.028250  \n",
      "u            0.014309  0.029997  0.031997  0.016305  \n",
      "g            0.022954  0.039443  0.040274  0.017470  \n",
      "r            0.433241  0.655243  0.671180  0.223106  \n",
      "i            0.492383  0.661640  0.672523  0.214787  \n",
      "z            0.030380  0.037813  0.037469  0.014668  \n",
      "run_ID       0.065400  0.239459  0.262687  0.067165  \n",
      "rerun_ID          NaN       NaN       NaN       NaN  \n",
      "cam_col      0.000097 -0.001949 -0.006745  0.121597  \n",
      "field_ID    -0.021331 -0.083471 -0.095064 -0.012337  \n",
      "spec_obj_ID  0.388642  1.000000  0.970167  0.241279  \n",
      "redshift     1.000000  0.388641  0.387109  0.127044  \n",
      "plate        0.388641  1.000000  0.970166  0.241258  \n",
      "MJD          0.387109  0.970166  1.000000  0.256970  \n",
      "fiber_ID     0.127044  0.241258  0.256970  1.000000  \n"
     ]
    }
   ],
   "source": [
    "#check for the correlation between the columns\n",
    "#get separate class and variable \n",
    "df_class = df['class']\n",
    "df = df.drop(['class'], axis=1)\n",
    "df = df.drop(['obj_ID'], axis=1)\n",
    "print(df.corr())"
   ]
  },
  {
   "cell_type": "code",
   "execution_count": null,
   "metadata": {},
   "outputs": [],
   "source": []
  }
 ],
 "metadata": {
  "kernelspec": {
   "display_name": "Python 3 (ipykernel)",
   "language": "python",
   "name": "python3"
  },
  "language_info": {
   "codemirror_mode": {
    "name": "ipython",
    "version": 3
   },
   "file_extension": ".py",
   "mimetype": "text/x-python",
   "name": "python",
   "nbconvert_exporter": "python",
   "pygments_lexer": "ipython3",
   "version": "3.8.18"
  }
 },
 "nbformat": 4,
 "nbformat_minor": 5
}
