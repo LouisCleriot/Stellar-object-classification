{
 "cells": [
  {
   "cell_type": "code",
   "execution_count": 6,
   "metadata": {},
   "outputs": [],
   "source": [
    "import pandas as pd\n",
    "import numpy as np\n",
    "import matplotlib.pyplot as plt\n",
    "import seaborn as sns\n",
    "from sklearnex import patch_sklearn\n",
    "patch_sklearn()\n",
    "from src.models.SVMClassifier import SVMClassifier as SVM\n",
    "\n",
    "# Read the data\n",
    "df_processed = pd.read_csv('../data/processed/train_processed.csv')\n",
    "df_reducted = pd.read_csv('../data/processed/train_reducted.csv')\n",
    "\n",
    "# Load the untrained model\n",
    "clf = SVM()"
   ]
  },
  {
   "cell_type": "code",
   "execution_count": 7,
   "metadata": {},
   "outputs": [],
   "source": [
    "X_train,y_train = df_reducted.drop('class',axis=1),df_processed['class']"
   ]
  },
  {
   "cell_type": "code",
   "execution_count": 8,
   "metadata": {},
   "outputs": [],
   "source": [
    "# Train the model with hyperparameter tuning\n",
    "params = {\n",
    "    'C': np.logspace(-3,3,7),\n",
    "    'kernel': ['linear','rbf','poly','sigmoid'],\n",
    "    'degree': [2,3,4,5],\n",
    "    'gamma': ['scale','auto']\n",
    "}\n",
    "clf.hyperparameter_tuning(X_train,y_train,params,search_type='random',cv=2)"
   ]
  },
  {
   "cell_type": "code",
   "execution_count": null,
   "metadata": {},
   "outputs": [],
   "source": [
    "# Save the model\n",
    "clf.save()"
   ]
  },
  {
   "cell_type": "code",
   "execution_count": null,
   "metadata": {},
   "outputs": [],
   "source": [
    "# Evaluate the model\n",
    "scores = clf.evaluate(X_train,y_train)\n",
    "print(scores)"
   ]
  },
  {
   "cell_type": "markdown",
   "metadata": {},
   "source": [
    "Undersampled data"
   ]
  },
  {
   "cell_type": "code",
   "execution_count": null,
   "metadata": {},
   "outputs": [],
   "source": [
    "df_undersampled = pd.read_csv('../data/processed/train_undersampled.csv')\n",
    "X_train,y_train = df_undersampled.drop('class',axis=1),df_undersampled['class']\n"
   ]
  },
  {
   "cell_type": "code",
   "execution_count": null,
   "metadata": {},
   "outputs": [],
   "source": [
    "svm_under = SVM()\n",
    "\n",
    "params = {\n",
    "    'C': np.logspace(-3,3,7),\n",
    "    'kernel': ['linear','rbf','poly','sigmoid'],\n",
    "    'degree': [2,3,4,5],\n",
    "    'gamma': ['scale','auto']\n",
    "}\n",
    "print(params['C'])\n",
    "#svm_under.hyperparameter_tuning(X_train,y_train,params,search_type='random',cv=2)"
   ]
  }
 ],
 "metadata": {
  "kernelspec": {
   "display_name": "Python 3",
   "language": "python",
   "name": "python3"
  },
  "language_info": {
   "codemirror_mode": {
    "name": "ipython",
    "version": 3
   },
   "file_extension": ".py",
   "mimetype": "text/x-python",
   "name": "python",
   "nbconvert_exporter": "python",
   "pygments_lexer": "ipython3",
   "version": "3.8.18"
  }
 },
 "nbformat": 4,
 "nbformat_minor": 2
}
