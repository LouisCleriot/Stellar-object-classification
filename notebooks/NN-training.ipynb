{
 "cells": [
  {
   "cell_type": "markdown",
   "metadata": {},
   "source": [
    "# NN Model Training Notebook\n",
    "\n",
    "This Jupyter Notebook serves as a documentation and workflow for training the NNClassifier ([MPLClassifier](https://scikit-learn.org/stable/modules/generated/sklearn.neural_network.MLPClassifier.html)).\n",
    "\n",
    "## Data Processing\n",
    "\n",
    "In the following cells, we import the necessary libraries and load the training and testing datasets. There are 2 variables that can be changed depending on the kind of dataset we want :\n",
    "* `withOutliers` : True or False\n",
    "* `data` : 'normal' | 'oversampled' | 'undersampled' \n",
    "\n",
    "NOTE : Make sure you already made the datasets with the commands:\n",
    "- `make data`\n",
    "- `make features`\n",
    "\n",
    "We also perform data preprocessing steps such as encoding labels. Other preprocessing steps such as removing correlations with pca, and scaling the data are done within the pipeline of the model.\n",
    "\n"
   ]
  },
  {
   "cell_type": "code",
   "execution_count": 24,
   "metadata": {},
   "outputs": [],
   "source": [
    "\"\"\" Import libraries \"\"\"\n",
    "import pandas as pd\n",
    "import numpy as np\n",
    "from src.models.NNClassifier import NNClassifier\n",
    "from scipy.stats import randint as sp_randint\n",
    "from sklearn.preprocessing import LabelEncoder"
   ]
  },
  {
   "cell_type": "code",
   "execution_count": 25,
   "metadata": {},
   "outputs": [],
   "source": [
    "# Set the kind of data to use\n",
    "withOutliers = True\n",
    "data = 'oversampled' \n",
    "\n",
    "o = {True: \"with\", False: \"without\"}\n",
    "d = {'normal': \"\", 'oversampled': \"_over\", 'undersampled': \"_under\"}\n",
    "\n",
    "# Load train and test split\n",
    "X_train = pd.read_csv(f'../data/processed/{o[withOutliers]}_outliers/train{d[data]}.csv')\n",
    "y_train = X_train['class']\n",
    "X_train = X_train.drop(['class'], axis=1)\n",
    "X_test = pd.read_csv(f'../data/processed/{o[withOutliers]}_outliers/test.csv')\n",
    "y_test = X_test['class']\n",
    "X_test = X_test.drop(['class'], axis=1)\n",
    "\n",
    "# Encode labels\n",
    "label_encoder = LabelEncoder()\n",
    "label_encoder.fit(y_train)\n",
    "y_train = label_encoder.transform(y_train)\n",
    "y_test = label_encoder.transform(y_test)"
   ]
  },
  {
   "cell_type": "markdown",
   "metadata": {},
   "source": [
    "## Model Training\n",
    "\n",
    "Once the data is processed, we proceed to train the model using hyperparameter tuning and cross validation to optimize performance. We use a [random search](https://scikit-learn.org/stable/modules/generated/sklearn.model_selection.RandomizedSearchCV.html) which is more efficient than a grid-search.\n",
    "\n",
    "F1 score is choosen as the evaluation metric considering the scenarios where we use unbalanced data. F1 score provides a balance between precision and recall.\n",
    "\n",
    "We try different number of hidden layers and neurons per layers and different kind of activation functions. \n",
    "\n",
    "For more detail about the influence of each parameter. Please refer to the [sklearn website](https://scikit-learn.org/stable/modules/generated/sklearn.neural_network.MLPClassifier.html)."
   ]
  },
  {
   "cell_type": "code",
   "execution_count": 26,
   "metadata": {},
   "outputs": [
    {
     "name": "stderr",
     "output_type": "stream",
     "text": [
      "/usr/local/lib/python3.9/site-packages/sklearn/neural_network/_multilayer_perceptron.py:546: ConvergenceWarning: lbfgs failed to converge (status=1):\n",
      "STOP: TOTAL NO. of ITERATIONS REACHED LIMIT.\n",
      "\n",
      "Increase the number of iterations (max_iter) or scale the data as shown in:\n",
      "    https://scikit-learn.org/stable/modules/preprocessing.html\n",
      "  self.n_iter_ = _check_optimize_result(\"lbfgs\", opt_res, self.max_iter)\n",
      "/usr/local/lib/python3.9/site-packages/sklearn/neural_network/_multilayer_perceptron.py:546: ConvergenceWarning: lbfgs failed to converge (status=1):\n",
      "STOP: TOTAL NO. of ITERATIONS REACHED LIMIT.\n",
      "\n",
      "Increase the number of iterations (max_iter) or scale the data as shown in:\n",
      "    https://scikit-learn.org/stable/modules/preprocessing.html\n",
      "  self.n_iter_ = _check_optimize_result(\"lbfgs\", opt_res, self.max_iter)\n",
      "/usr/local/lib/python3.9/site-packages/sklearn/neural_network/_multilayer_perceptron.py:546: ConvergenceWarning: lbfgs failed to converge (status=1):\n",
      "STOP: TOTAL NO. of ITERATIONS REACHED LIMIT.\n",
      "\n",
      "Increase the number of iterations (max_iter) or scale the data as shown in:\n",
      "    https://scikit-learn.org/stable/modules/preprocessing.html\n",
      "  self.n_iter_ = _check_optimize_result(\"lbfgs\", opt_res, self.max_iter)\n",
      "/usr/local/lib/python3.9/site-packages/sklearn/neural_network/_multilayer_perceptron.py:546: ConvergenceWarning: lbfgs failed to converge (status=1):\n",
      "STOP: TOTAL NO. of ITERATIONS REACHED LIMIT.\n",
      "\n",
      "Increase the number of iterations (max_iter) or scale the data as shown in:\n",
      "    https://scikit-learn.org/stable/modules/preprocessing.html\n",
      "  self.n_iter_ = _check_optimize_result(\"lbfgs\", opt_res, self.max_iter)\n",
      "/usr/local/lib/python3.9/site-packages/sklearn/neural_network/_multilayer_perceptron.py:546: ConvergenceWarning: lbfgs failed to converge (status=1):\n",
      "STOP: TOTAL NO. of ITERATIONS REACHED LIMIT.\n",
      "\n",
      "Increase the number of iterations (max_iter) or scale the data as shown in:\n",
      "    https://scikit-learn.org/stable/modules/preprocessing.html\n",
      "  self.n_iter_ = _check_optimize_result(\"lbfgs\", opt_res, self.max_iter)\n",
      "/usr/local/lib/python3.9/site-packages/sklearn/neural_network/_multilayer_perceptron.py:546: ConvergenceWarning: lbfgs failed to converge (status=1):\n",
      "STOP: TOTAL NO. of ITERATIONS REACHED LIMIT.\n",
      "\n",
      "Increase the number of iterations (max_iter) or scale the data as shown in:\n",
      "    https://scikit-learn.org/stable/modules/preprocessing.html\n",
      "  self.n_iter_ = _check_optimize_result(\"lbfgs\", opt_res, self.max_iter)\n",
      "/usr/local/lib/python3.9/site-packages/sklearn/neural_network/_multilayer_perceptron.py:546: ConvergenceWarning: lbfgs failed to converge (status=1):\n",
      "STOP: TOTAL NO. of ITERATIONS REACHED LIMIT.\n",
      "\n",
      "Increase the number of iterations (max_iter) or scale the data as shown in:\n",
      "    https://scikit-learn.org/stable/modules/preprocessing.html\n",
      "  self.n_iter_ = _check_optimize_result(\"lbfgs\", opt_res, self.max_iter)\n",
      "/usr/local/lib/python3.9/site-packages/sklearn/neural_network/_multilayer_perceptron.py:546: ConvergenceWarning: lbfgs failed to converge (status=1):\n",
      "STOP: TOTAL NO. of ITERATIONS REACHED LIMIT.\n",
      "\n",
      "Increase the number of iterations (max_iter) or scale the data as shown in:\n",
      "    https://scikit-learn.org/stable/modules/preprocessing.html\n",
      "  self.n_iter_ = _check_optimize_result(\"lbfgs\", opt_res, self.max_iter)\n",
      "/usr/local/lib/python3.9/site-packages/sklearn/neural_network/_multilayer_perceptron.py:546: ConvergenceWarning: lbfgs failed to converge (status=1):\n",
      "STOP: TOTAL NO. of ITERATIONS REACHED LIMIT.\n",
      "\n",
      "Increase the number of iterations (max_iter) or scale the data as shown in:\n",
      "    https://scikit-learn.org/stable/modules/preprocessing.html\n",
      "  self.n_iter_ = _check_optimize_result(\"lbfgs\", opt_res, self.max_iter)\n",
      "/usr/local/lib/python3.9/site-packages/sklearn/neural_network/_multilayer_perceptron.py:546: ConvergenceWarning: lbfgs failed to converge (status=1):\n",
      "STOP: TOTAL NO. of ITERATIONS REACHED LIMIT.\n",
      "\n",
      "Increase the number of iterations (max_iter) or scale the data as shown in:\n",
      "    https://scikit-learn.org/stable/modules/preprocessing.html\n",
      "  self.n_iter_ = _check_optimize_result(\"lbfgs\", opt_res, self.max_iter)\n"
     ]
    }
   ],
   "source": [
    "# Create the model\n",
    "clf = NNClassifier()\n",
    "\n",
    "# Choose the hyperparameters search space\n",
    "parameters = {\n",
    "    'hidden_layer_sizes': [(50,), (100,), (50, 50), (100, 50),(100,100),(50,50,50),(100,50,100)],\n",
    "    'activation': ['relu', 'tanh', 'logistic'],\n",
    "    'solver': ['adam', 'sgd', 'lbfgs'],\n",
    "    'alpha': 10.0 ** -np.arange(1, 7),\n",
    "    'batch_size': [100, 200, 300,'auto'],\n",
    "    'learning_rate': ['constant', 'adaptive', 'invscaling'],\n",
    "    'learning_rate_init': [0.001, 0.01, 0.1],\n",
    "    'max_iter': [200, 400, 600],\n",
    "    'momentum': [0.9, 0.95, 0.99],\n",
    "    'verbose': [False],\n",
    "    'shuffle': [True,False],\n",
    "    'early_stopping': [True,False],\n",
    "    'validation_fraction': [0.1, 0.2, 0.3],\n",
    "    'beta_1': [0.9, 0.95, 0.99],\n",
    "    'beta_2': [0.9, 0.95, 0.99],\n",
    "    'n_iter_no_change': [10, 20, 30],\n",
    "}\n",
    "# Perform the hyperparameter tuning with cross validation\n",
    "clf.hyperparameter_tuning(X_train,y_train,parameters,search_type='random',cv=3,scoring='f1_macro',n_iteration=10)"
   ]
  },
  {
   "cell_type": "code",
   "execution_count": 30,
   "metadata": {},
   "outputs": [
    {
     "name": "stdout",
     "output_type": "stream",
     "text": [
      "Best parameters: {'model__verbose': False, 'model__validation_fraction': 0.1, 'model__solver': 'lbfgs', 'model__shuffle': True, 'model__n_iter_no_change': 20, 'model__momentum': 0.95, 'model__max_iter': 600, 'model__learning_rate_init': 0.001, 'model__learning_rate': 'constant', 'model__hidden_layer_sizes': (100,), 'model__early_stopping': False, 'model__beta_2': 0.95, 'model__beta_1': 0.9, 'model__batch_size': 200, 'model__alpha': 0.01, 'model__activation': 'relu'}\n"
     ]
    }
   ],
   "source": [
    "print(f'Best parameters: {clf.best_params}')"
   ]
  },
  {
   "cell_type": "markdown",
   "metadata": {},
   "source": [
    "## Evaluation"
   ]
  },
  {
   "cell_type": "code",
   "execution_count": 31,
   "metadata": {},
   "outputs": [
    {
     "name": "stdout",
     "output_type": "stream",
     "text": [
      "Inference time : 1.369317372639974e-06 seconds\n",
      "              precision    recall  f1-score   support\n",
      "\n",
      "           0       0.98      0.97      0.98     11621\n",
      "           1       0.93      0.95      0.94      3740\n",
      "           2       0.97      1.00      0.99      3839\n",
      "\n",
      "    accuracy                           0.97     19200\n",
      "   macro avg       0.96      0.97      0.97     19200\n",
      "weighted avg       0.97      0.97      0.97     19200\n",
      "\n",
      "auc score for class 0:  0.9930764901531877\n",
      "auc score for class 1:  0.9927481995973739\n",
      "auc score for class 2:  0.9986265085178737\n"
     ]
    },
    {
     "data": {
      "image/png": "[encoded data removed]",
      "text/plain": [
       "<Figure size 640x480 with 1 Axes>"
      ]
     },
     "metadata": {},
     "output_type": "display_data"
    },
    {
     "data": {
      "image/png": "[encoded data removed]",
      "text/plain": [
       "<Figure size 640x480 with 1 Axes>"
      ]
     },
     "metadata": {},
     "output_type": "display_data"
    }
   ],
   "source": [
    "clf.evaluate(X_test,y_test)"
   ]
  },
  {
   "cell_type": "markdown",
   "metadata": {},
   "source": [
    "## Saving the model"
   ]
  },
  {
   "cell_type": "code",
   "execution_count": 32,
   "metadata": {},
   "outputs": [],
   "source": [
    "clf.save(new_name=f'nn_{o[withOutliers]}_outliers{d[data]}',path='../models/NN/')"
   ]
  }
 ],
 "metadata": {
  "kernelspec": {
   "display_name": "Python 3",
   "language": "python",
   "name": "python3"
  },
  "language_info": {
   "codemirror_mode": {
    "name": "ipython",
    "version": 3
   },
   "file_extension": ".py",
   "mimetype": "text/x-python",
   "name": "python",
   "nbconvert_exporter": "python",
   "pygments_lexer": "ipython3",
   "version": "3.9.18"
  }
 },
 "nbformat": 4,
 "nbformat_minor": 2
}
