{
 "cells": [
  {
   "cell_type": "markdown",
   "metadata": {},
   "source": [
    "# This notebook will try to choose the Best model from a category."
   ]
  },
  {
   "cell_type": "markdown",
   "metadata": {},
   "source": [
    "## Import the necessary library"
   ]
  },
  {
   "cell_type": "code",
   "execution_count": 7,
   "metadata": {},
   "outputs": [],
   "source": [
    "import pandas as pd\n",
    "from src.models.RandomForestClassifier import RFClassifier\n",
    "import os\n",
    "from sklearn.metrics import classification_report\n",
    "from sklearn.preprocessing import LabelEncoder\n",
    "import time"
   ]
  },
  {
   "cell_type": "markdown",
   "metadata": {},
   "source": [
    "## Load the necessary files"
   ]
  },
  {
   "cell_type": "markdown",
   "metadata": {},
   "source": [
    "### Load the test data"
   ]
  },
  {
   "cell_type": "code",
   "execution_count": 8,
   "metadata": {},
   "outputs": [],
   "source": [
    "test_with = pd.read_csv('../data/processed/with_outliers/test.csv')\n",
    "y_test_with = test_with[\"class\"]\n",
    "X_test_with = test_with.drop(\"class\", axis=1)\n",
    "test_without = pd.read_csv('../data/processed/without_outliers/test.csv')\n",
    "y_test_without = test_without[\"class\"]\n",
    "X_test_without = test_without.drop(\"class\", axis=1)\n",
    "y_train_with = pd.read_csv('../data/processed/with_outliers/train.csv')[\"class\"]\n",
    "y_train_without = pd.read_csv('../data/processed/without_outliers/train.csv')[\"class\"]\n",
    "#encode labels\n",
    "label_encoder_with = LabelEncoder().fit(y_train_with)\n",
    "y_test_with = label_encoder_with.transform(y_test_with)\n",
    "label_encoder_without = LabelEncoder().fit(y_train_without)\n",
    "y_test_without = label_encoder_without.transform(y_test_without)\n"
   ]
  },
  {
   "cell_type": "markdown",
   "metadata": {},
   "source": [
    "### Load the models"
   ]
  },
  {
   "cell_type": "code",
   "execution_count": 9,
   "metadata": {},
   "outputs": [],
   "source": [
    "models_dir = '../models/NB/'\n",
    "\n",
    "models = {}\n",
    "\n",
    "for filename in os.listdir(models_dir):\n",
    "    clf = RFClassifier()\n",
    "    clf.load(new_name=filename, path=models_dir)\n",
    "    models[filename] = clf.model"
   ]
  },
  {
   "cell_type": "markdown",
   "metadata": {},
   "source": [
    "## Evaluate the models"
   ]
  },
  {
   "cell_type": "markdown",
   "metadata": {},
   "source": [
    "### Classification Report"
   ]
  },
  {
   "cell_type": "code",
   "execution_count": 10,
   "metadata": {},
   "outputs": [
    {
     "name": "stdout",
     "output_type": "stream",
     "text": [
      "NaiveBayes_with_outliers_oversampled.joblib\n",
      "Inference time:  7.466912269592285e-07\n",
      "              precision    recall  f1-score   support\n",
      "\n",
      "      GALAXY       0.97      0.93      0.95     11889\n",
      "         QSO       0.82      0.91      0.86      3792\n",
      "        STAR       0.98      0.99      0.98      4319\n",
      "\n",
      "    accuracy                           0.94     20000\n",
      "   macro avg       0.92      0.94      0.93     20000\n",
      "weighted avg       0.94      0.94      0.94     20000\n",
      "\n",
      "NaiveBayes_without_outliers.joblib\n",
      "Inference time:  3.0250598986943563e-07\n",
      "              precision    recall  f1-score   support\n",
      "\n",
      "      GALAXY       0.95      0.96      0.95     11605\n",
      "         QSO       0.89      0.84      0.86      3719\n",
      "        STAR       0.98      0.99      0.99      3876\n",
      "\n",
      "    accuracy                           0.94     19200\n",
      "   macro avg       0.94      0.93      0.93     19200\n",
      "weighted avg       0.94      0.94      0.94     19200\n",
      "\n",
      "NaiveBayes_without_outliers_oversampled.joblib\n",
      "Inference time:  2.884368101755778e-07\n",
      "              precision    recall  f1-score   support\n",
      "\n",
      "      GALAXY       0.97      0.93      0.95     11605\n",
      "         QSO       0.82      0.91      0.86      3719\n",
      "        STAR       0.98      0.99      0.98      3876\n",
      "\n",
      "    accuracy                           0.94     19200\n",
      "   macro avg       0.92      0.94      0.93     19200\n",
      "weighted avg       0.94      0.94      0.94     19200\n",
      "\n",
      "NaiveBayes_without_outliers_undersampled.joblib\n",
      "Inference time:  3.079076608022054e-07\n",
      "              precision    recall  f1-score   support\n",
      "\n",
      "      GALAXY       0.97      0.93      0.95     11605\n",
      "         QSO       0.82      0.91      0.86      3719\n",
      "        STAR       0.98      0.99      0.99      3876\n",
      "\n",
      "    accuracy                           0.94     19200\n",
      "   macro avg       0.92      0.94      0.93     19200\n",
      "weighted avg       0.94      0.94      0.94     19200\n",
      "\n",
      "NaiveBayes_with_outliers_undersampled.joblib\n",
      "Inference time:  2.881050109863281e-07\n",
      "              precision    recall  f1-score   support\n",
      "\n",
      "      GALAXY       0.97      0.93      0.95     11889\n",
      "         QSO       0.82      0.91      0.86      3792\n",
      "        STAR       0.98      0.99      0.98      4319\n",
      "\n",
      "    accuracy                           0.94     20000\n",
      "   macro avg       0.92      0.94      0.93     20000\n",
      "weighted avg       0.94      0.94      0.94     20000\n",
      "\n",
      "NaiveBayes_with_outliers.joblib\n",
      "Inference time:  3.003716468811035e-07\n",
      "              precision    recall  f1-score   support\n",
      "\n",
      "      GALAXY       0.95      0.96      0.95     11889\n",
      "         QSO       0.89      0.84      0.87      3792\n",
      "        STAR       0.98      0.99      0.98      4319\n",
      "\n",
      "    accuracy                           0.94     20000\n",
      "   macro avg       0.94      0.93      0.93     20000\n",
      "weighted avg       0.94      0.94      0.94     20000\n",
      "\n"
     ]
    }
   ],
   "source": [
    "for name, model in models.items():\n",
    "    print(name)\n",
    "    #check if name has a certain string\n",
    "    if \"_without_\" in name :\n",
    "        start_time = time.time()\n",
    "        y_pred = model.predict(X_test_without)\n",
    "        end_time = time.time()\n",
    "        inference_time = (end_time - start_time)/len(y_pred)\n",
    "        print(\"Inference time: \", inference_time)\n",
    "        print(classification_report(label_encoder_without.inverse_transform(y_test_without), label_encoder_without.inverse_transform(y_pred)))\n",
    "    else:\n",
    "        start_time = time.time()\n",
    "        y_pred = model.predict(X_test_with)\n",
    "        end_time = time.time()\n",
    "        inference_time = (end_time - start_time)/len(y_pred)\n",
    "        print(\"Inference time: \", inference_time)\n",
    "        print(classification_report(label_encoder_with.inverse_transform(y_test_with),label_encoder_with.inverse_transform(y_pred)))"
   ]
  }
 ],
 "metadata": {
  "kernelspec": {
   "display_name": "Python 3",
   "language": "python",
   "name": "python3"
  },
  "language_info": {
   "codemirror_mode": {
    "name": "ipython",
    "version": 3
   },
   "file_extension": ".py",
   "mimetype": "text/x-python",
   "name": "python",
   "nbconvert_exporter": "python",
   "pygments_lexer": "ipython3",
   "version": "3.9.18"
  }
 },
 "nbformat": 4,
 "nbformat_minor": 2
}
